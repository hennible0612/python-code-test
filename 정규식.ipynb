{
 "cells": [
  {
   "cell_type": "markdown",
   "source": [
    "## 정규식\n",
    "#### 문자 클래스 []\n",
    "##### [] 사이의 문자들과 매치라는 의미\n",
    "##### ex) [abc] a,b,c 중 하나라도 매치\n",
    "##### ex) [a-zA-Z] [0-9] 모든 알파벳 모든 숫자\n",
    "##### ex) [^a-zA-Z] [^0-9] ^ 을 넣을경우 not이 되므로 모든 알파벳이 아닌 모든 숫자가 아닌으로 된다."
   ],
   "metadata": {
    "collapsed": false
   }
  },
  {
   "cell_type": "markdown",
   "source": [
    "### Dot(.)\n",
    "##### 줄바꿈 문자인 \\n 을 제외한 모든 문자와 매치가 된다.\n",
    "##### re.DOTALL 옵션을 주면 \\n 문자와도 매치된다.\n",
    "##### ex) a.b   \"a+ 모든문자 + b\" 를 의미한다. 즉) aab abb aob a0b ... 등등 가능하다\n",
    "##### ex) a[.]b   \"a.b\" 를 의미한다. 즉) a.b만 의미한다."
   ],
   "metadata": {
    "collapsed": false
   }
  },
  {
   "cell_type": "markdown",
   "source": [
    "### 반복 (*)\n",
    "##### * 바로 앞에 있는 문자가 무한대로 반복될 수 있다는 의미 즉) 무한대 이거나 없거나이다.\n",
    "##### ex) ca*t 이면 ct cat caaat ... 이 가능하다"
   ],
   "metadata": {
    "collapsed": false
   }
  },
  {
   "cell_type": "markdown",
   "source": [
    "### 반복 (+)\n",
    "##### * 과 똑같은데 단, 최소 1번 이상 반복을 한다.\n",
    "##### ex) ca+t 이면 cat caat ... 이 가능하다"
   ],
   "metadata": {
    "collapsed": false
   }
  },
  {
   "cell_type": "markdown",
   "source": [
    "### 반복 ({m,n}, ?)\n",
    "##### 특정 횟수까지만 반복을 하는 것이다.\n",
    "##### ex) ca{2}t 이면 caat만 가능\n",
    "##### ex) ca{2,5} 이면 caat caaat caaaat caaaaat 만 가능"
   ],
   "metadata": {
    "collapsed": false
   }
  },
  {
   "cell_type": "markdown",
   "source": [
    "### ?\n",
    "##### ? 은 있어도 되고 없어도 되고 이다. {0,1}\n",
    "##### ex) ab?c 이면 ac 이거나 abc이다."
   ],
   "metadata": {
    "collapsed": false
   }
  },
  {
   "cell_type": "markdown",
   "source": [
    "### 정규식을 지원하는 re 모듈\n",
    "##### 정규식 표현을 컴파일 한다."
   ],
   "metadata": {
    "collapsed": false
   }
  },
  {
   "cell_type": "code",
   "execution_count": null,
   "outputs": [],
   "source": [
    "import re\n",
    "p = re.compile('[a-z]+')"
   ],
   "metadata": {
    "collapsed": false,
    "pycharm": {
     "name": "#%%\n"
    }
   }
  },
  {
   "cell_type": "markdown",
   "source": [
    "### match\n",
    "##### match 매서드는 문자열의 처음부터 정규식과 매치되는지 조사한다.\n",
    "##### 있을 경우 m.group으로 해당 단어 출력가능 없을 경우 None"
   ],
   "metadata": {
    "collapsed": false
   }
  },
  {
   "cell_type": "code",
   "execution_count": null,
   "outputs": [],
   "source": [
    "import re\n",
    "p = re.compile('[a-z]+')\n",
    "m = p.match('python')\n",
    "print(m)\n",
    "n = p.match('3 python')\n",
    "print(n)\n",
    "if m:\n",
    "    print('Match found: ', m.group())\n",
    "else:\n",
    "    print('No match')"
   ],
   "metadata": {
    "collapsed": false,
    "pycharm": {
     "name": "#%%\n"
    }
   }
  },
  {
   "cell_type": "markdown",
   "source": [
    "### search\n",
    "##### search 는 말그대로 찾는다.\n",
    "##### 있을 경우 m.group으로 해당 단어 출력가능 없을 경우 None"
   ],
   "metadata": {
    "collapsed": false
   }
  },
  {
   "cell_type": "code",
   "execution_count": null,
   "outputs": [],
   "source": [
    "import re\n",
    "p = re.compile('[a-z]+')\n",
    "m = p.search('python')\n",
    "n = p.search('3 python')\n",
    "print(m)\n",
    "print(n)"
   ],
   "metadata": {
    "collapsed": false,
    "pycharm": {
     "name": "#%%\n"
    }
   }
  },
  {
   "cell_type": "markdown",
   "source": [
    "### findall\n",
    "##### finall 는 말그대로 모두 찾는다.\n",
    "##### 없을 경우 빈 리스트"
   ],
   "metadata": {
    "collapsed": false
   }
  },
  {
   "cell_type": "code",
   "execution_count": null,
   "outputs": [],
   "source": [
    "import re\n",
    "p = re.compile('[a-z]+')\n",
    "result = p.findall(\"life is too short\")\n",
    "print(result)\n",
    "result = p.findall(\"234234\")\n",
    "print(result)"
   ],
   "metadata": {
    "collapsed": false,
    "pycharm": {
     "name": "#%%\n"
    }
   }
  },
  {
   "cell_type": "markdown",
   "source": [
    "### finditer\n",
    "##### findall 과 똑같다 단 반복가능한 객체로 돌려준다."
   ],
   "metadata": {
    "collapsed": false
   }
  },
  {
   "cell_type": "code",
   "execution_count": null,
   "outputs": [],
   "source": [
    "p = re.compile('[a-z]+')\n",
    "result = p.finditer(\"life is too short\")\n",
    "print(result)\n",
    "for r in result:\n",
    "    print(r)"
   ],
   "metadata": {
    "collapsed": false,
    "pycharm": {
     "name": "#%%\n"
    }
   }
  },
  {
   "cell_type": "markdown",
   "source": [
    "### match 객체의 매서드"
   ],
   "metadata": {
    "collapsed": false
   }
  },
  {
   "cell_type": "code",
   "execution_count": null,
   "outputs": [],
   "source": [
    "p = re.compile('[a-z]+')\n",
    "m = p.match(\"python\")\n",
    "print(m.group())\n",
    "print(m.start())\n",
    "print(m.end())\n",
    "print(m.span())"
   ],
   "metadata": {
    "collapsed": false,
    "pycharm": {
     "name": "#%%\n"
    }
   }
  },
  {
   "cell_type": "markdown",
   "source": [
    "### 모듈 단위로 수행하기"
   ],
   "metadata": {
    "collapsed": false
   }
  },
  {
   "cell_type": "code",
   "execution_count": null,
   "outputs": [],
   "source": [
    "m = re.match('[a-z]+',\"python\")\n",
    "print(m)"
   ],
   "metadata": {
    "collapsed": false,
    "pycharm": {
     "name": "#%%\n"
    }
   }
  },
  {
   "cell_type": "markdown",
   "source": [
    "### DOTALL, S\n",
    "##### \\n 을 포함 시켜준다."
   ],
   "metadata": {
    "collapsed": false
   }
  },
  {
   "cell_type": "code",
   "execution_count": null,
   "outputs": [],
   "source": [
    "p = re.compile('a.b',re.DOTALL)\n",
    "m = p.match('a\\nb')\n",
    "print(m)"
   ],
   "metadata": {
    "collapsed": false,
    "pycharm": {
     "name": "#%%\n"
    }
   }
  },
  {
   "cell_type": "markdown",
   "source": [
    "### IGNORECASE, I\n",
    "##### 대소문자 무시하고 정규식 적용"
   ],
   "metadata": {
    "collapsed": false
   }
  },
  {
   "cell_type": "code",
   "execution_count": null,
   "outputs": [],
   "source": [
    "p = re.compile('[a-z]+', re.I)\n",
    "m = p.match('PyThoN')\n",
    "print(m)"
   ],
   "metadata": {
    "collapsed": false,
    "pycharm": {
     "name": "#%%\n"
    }
   }
  },
  {
   "cell_type": "markdown",
   "source": [
    "### MULTILINE, M\n",
    "##### 말그대로 다중 라인이다.\n",
    "##### ^python 은 문자열의 처음은 항상 python 으로 시작해야한다\n",
    "##### $은 ^ 반대 마지막으로 끝나야한다\n",
    "##### ^python\\s \\s 는 python 다음에 화이트스페이스가 와야한다는 것이다.\n",
    "##### \\w 단어가 와야한다는 뜻"
   ],
   "metadata": {
    "collapsed": false
   }
  },
  {
   "cell_type": "code",
   "execution_count": null,
   "outputs": [],
   "source": [
    "import re\n",
    "p = re.compile(\"^python\\s\\w+\")\n",
    "data = \"\"\"python one\n",
    "life is too short\n",
    "python two\n",
    "you need python\n",
    "python three\"\"\"\n",
    "print(p.findall(data))\n",
    "p = re.compile(\"^python\\s\\w+\", re.MULTILINE)\n",
    "print(p.findall(data))"
   ],
   "metadata": {
    "collapsed": false,
    "pycharm": {
     "name": "#%%\n"
    }
   }
  },
  {
   "cell_type": "markdown",
   "source": [
    "### raw string\n",
    "##### \\ 문제를 해결하기 위해 r 을 붙여서 raw string인것을 알려준다."
   ],
   "metadata": {
    "collapsed": false
   }
  },
  {
   "cell_type": "code",
   "execution_count": null,
   "outputs": [],
   "source": [
    "import re\n",
    "\n",
    "p = re.compile(r'\\\\section')"
   ],
   "metadata": {
    "collapsed": false,
    "pycharm": {
     "name": "#%%\n"
    }
   }
  },
  {
   "cell_type": "markdown",
   "source": [
    "### |\n",
    "##### | 은 or이다."
   ],
   "metadata": {
    "collapsed": false
   }
  },
  {
   "cell_type": "code",
   "execution_count": null,
   "outputs": [],
   "source": [
    "import re\n",
    "\n",
    "p = re.compile('Crow|Servo')\n",
    "m = p.match('CrowHello')\n",
    "print(m)"
   ],
   "metadata": {
    "collapsed": false,
    "pycharm": {
     "name": "#%%\n"
    }
   }
  },
  {
   "cell_type": "markdown",
   "source": [
    "### ^\n",
    "##### ^ 문자열의 맨 처음과 일치함을 의미"
   ],
   "metadata": {
    "collapsed": false
   }
  },
  {
   "cell_type": "code",
   "execution_count": null,
   "outputs": [],
   "source": [
    "import re\n",
    "\n",
    "print(re.search('^Life', 'Life is too short'))\n",
    "print(re.search('^Life', 'My Life'))"
   ],
   "metadata": {
    "collapsed": false,
    "pycharm": {
     "name": "#%%\n"
    }
   }
  },
  {
   "cell_type": "markdown",
   "source": [
    "### $\n",
    "##### $은 ^의 반대이다"
   ],
   "metadata": {
    "collapsed": false
   }
  },
  {
   "cell_type": "code",
   "execution_count": null,
   "outputs": [],
   "source": [
    "import re\n",
    "\n",
    "print(re.search('short$', 'Life is too short'))\n",
    "print(re.search('short$', 'My Life'))"
   ],
   "metadata": {
    "collapsed": false,
    "pycharm": {
     "name": "#%%\n"
    }
   }
  },
  {
   "cell_type": "markdown",
   "source": [
    "### \\A\n",
    "#####  ^은 각 줄의 문자열의 처음과 매치되지만 \\A는 줄과 상관없이 전체 문자열의 처음하고만 매치된다.\n",
    "### \\Z\n",
    "##### \\Z는 문자열의 끝과 매치됨을 의미한다. 이것 역시 \\A와 동일하게 re.MULTILINE 옵션을 사용할 경우 $ 메타 문자와는 달리 전체 문자열의 끝과 매치된다.\n",
    "### \\b\n",
    "##### \\b는 단어 구분자(Word boundary)이다. 보통 단어는 whitespace에 의해 구분된다."
   ],
   "metadata": {
    "collapsed": false
   }
  },
  {
   "cell_type": "code",
   "execution_count": null,
   "outputs": [],
   "source": [
    "import re\n",
    "p = re.compile(r'\\bclass\\b')\n",
    "print(p.search('no class at all'))\n",
    "print(p.search('the declassified algorithm'))"
   ],
   "metadata": {
    "collapsed": false,
    "pycharm": {
     "name": "#%%\n"
    }
   }
  },
  {
   "cell_type": "markdown",
   "source": [
    "### \\B\n",
    "##### \\B 메타 문자는 \\b 메타 문자와 반대의 경우이다. 즉 whitespace로 구분된 단어가 아닌 경우에만 매치된다."
   ],
   "metadata": {
    "collapsed": false
   }
  },
  {
   "cell_type": "code",
   "execution_count": null,
   "outputs": [],
   "source": [
    "p = re.compile(r'\\Bclass\\B')\n",
    "print(p.search('no class at all'))\n",
    "print(p.search('the declassified algorithm'))"
   ],
   "metadata": {
    "collapsed": false,
    "pycharm": {
     "name": "#%%\n"
    }
   }
  },
  {
   "cell_type": "markdown",
   "source": [
    "### 그루핑\n",
    "##### (ABC)+\n",
    "##### 그루핑으로 원하는 단어를 뺄수 있다."
   ],
   "metadata": {
    "collapsed": false
   }
  },
  {
   "cell_type": "code",
   "execution_count": null,
   "outputs": [],
   "source": [
    "p = re.compile('(ABC)+')\n",
    "m = p.search('ABCABCABC OK?')\n",
    "print(m)"
   ],
   "metadata": {
    "collapsed": false,
    "pycharm": {
     "name": "#%%\n"
    }
   }
  },
  {
   "cell_type": "markdown",
   "source": [
    "##### 아래와 같은 경우는 \\w 을 그루핑하였다."
   ],
   "metadata": {
    "collapsed": false
   }
  },
  {
   "cell_type": "code",
   "execution_count": null,
   "outputs": [],
   "source": [
    "p = re.compile(r\"(\\w+)\\s+\\d+[-]\\d+[-]\\d+\")\n",
    "m = p.search(\"park 010-1234-1234\")\n",
    "print(m.group(1))"
   ],
   "metadata": {
    "collapsed": false,
    "pycharm": {
     "name": "#%%\n"
    }
   }
  }
 ],
 "metadata": {
  "kernelspec": {
   "display_name": "Python 3",
   "language": "python",
   "name": "python3"
  },
  "language_info": {
   "codemirror_mode": {
    "name": "ipython",
    "version": 2
   },
   "file_extension": ".py",
   "mimetype": "text/x-python",
   "name": "python",
   "nbconvert_exporter": "python",
   "pygments_lexer": "ipython2",
   "version": "2.7.6"
  }
 },
 "nbformat": 4,
 "nbformat_minor": 0
}