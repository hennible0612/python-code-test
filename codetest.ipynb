{
 "cells": [
  {
   "cell_type": "markdown",
   "metadata": {
    "collapsed": true,
    "pycharm": {
     "name": "#%% md\n"
    }
   },
   "source": [
    "## 중복 제거"
   ]
  },
  {
   "cell_type": "code",
   "execution_count": 5,
   "outputs": [
    {
     "name": "stdout",
     "output_type": "stream",
     "text": [
      "['muzi frodo', 'muzi frodo', 'muzi neo', 'muzi neo', 'apeach frodo', 'apeach muzi', 'frodo neo']\n",
      "<class 'list'>\n",
      "{'apeach muzi', 'frodo neo', 'muzi neo', 'apeach frodo', 'muzi frodo'}\n",
      "<class 'set'>\n"
     ]
    }
   ],
   "source": [
    "report = [\"muzi frodo\", \"muzi frodo\", \"muzi neo\", \"muzi neo\", \"apeach frodo\", \"apeach muzi\", \"frodo neo\"]\n",
    "\n",
    "print(report)\n",
    "print(type(report))\n",
    "report = set(report)\n",
    "print(report)\n",
    "print(type(report))"
   ],
   "metadata": {
    "collapsed": false,
    "pycharm": {
     "name": "#%%\n"
    }
   }
  }
 ],
 "metadata": {
  "kernelspec": {
   "display_name": "Python 3 (ipykernel)",
   "language": "python",
   "name": "python3"
  },
  "language_info": {
   "codemirror_mode": {
    "name": "ipython",
    "version": 3
   },
   "file_extension": ".py",
   "mimetype": "text/x-python",
   "name": "python",
   "nbconvert_exporter": "python",
   "pygments_lexer": "ipython3",
   "version": "3.10.0"
  }
 },
 "nbformat": 4,
 "nbformat_minor": 1
}