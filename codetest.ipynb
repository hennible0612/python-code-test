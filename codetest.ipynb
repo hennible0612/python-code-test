{
 "cells": [
  {
   "cell_type": "markdown",
   "source": [
    "## 중복 제거\n",
    "#### set() 을 사용하면 됨"
   ],
   "metadata": {
    "collapsed": false
   }
  },
  {
   "cell_type": "code",
   "execution_count": null,
   "outputs": [],
   "source": [
    "report = [\"muzi frodo\", \"muzi frodo\", \"muzi neo\", \"muzi neo\", \"apeach frodo\", \"apeach muzi\", \"frodo neo\"]\n",
    "\n",
    "print(report)\n",
    "print(type(report))\n",
    "report = set(report)\n",
    "print(report)\n",
    "print(type(report))\n"
   ],
   "metadata": {
    "collapsed": false,
    "pycharm": {
     "name": "#%%\n"
    }
   }
  },
  {
   "cell_type": "markdown",
   "source": [
    "## list to dict\n",
    "### 리스트를 딕셔너리로\n",
    "####  dict.fromkeys(\"사용할 리스트\",\"초기화할 value\")"
   ],
   "metadata": {
    "collapsed": false
   }
  },
  {
   "cell_type": "code",
   "execution_count": null,
   "outputs": [],
   "source": [
    "id_list = [\"muzi\", \"frodo\", \"apeach\", \"neo\"]\n",
    "reported_dict = dict.fromkeys(id_list, 0)\n",
    "print(reported_dict)"
   ],
   "metadata": {
    "collapsed": false,
    "pycharm": {
     "name": "#%%\n"
    }
   }
  },
  {
   "cell_type": "markdown",
   "source": [
    "\n",
    "## index\n",
    "####  해당 리스트에서 위치 찾음\n",
    "#### \"리스트\".index(\"찾을 값\")"
   ],
   "metadata": {
    "collapsed": false
   }
  },
  {
   "cell_type": "code",
   "execution_count": null,
   "outputs": [],
   "source": [
    "id_list = [\"muzi\", \"frodo\", \"apeach\", \"neo\"]\n",
    "index = id_list.index(\"frodo\")\n",
    "print(index)"
   ],
   "metadata": {
    "collapsed": false,
    "pycharm": {
     "name": "#%%\n"
    }
   }
  },
  {
   "cell_type": "markdown",
   "source": [
    "\n",
    "## count\n",
    "####  리스트에서 해당 값의 갯수 찾아줌 (숫자, string) 가능\n",
    "#### \"리스트\".count(\"갯수를 찾을 값\")"
   ],
   "metadata": {
    "collapsed": false
   }
  },
  {
   "cell_type": "code",
   "execution_count": null,
   "outputs": [],
   "source": [
    "id_list = [\"muzi\", \"muzi\", \"apeach\", \"neo\"]\n",
    "count = id_list.count(\"muzi\")\n",
    "print(count)"
   ],
   "metadata": {
    "collapsed": false,
    "pycharm": {
     "name": "#%%\n"
    }
   }
  },
  {
   "cell_type": "markdown",
   "source": [
    "\n",
    "## isalnum()\n",
    "####  문자열에 영어, 한글, 숫자로 되어있으면 true 리턴\n",
    "#### \"문자열\".isalnum()"
   ],
   "metadata": {
    "collapsed": false
   }
  },
  {
   "cell_type": "code",
   "execution_count": null,
   "outputs": [],
   "source": [
    "string1 = \"...!@BaT#*..y.abcdefghijklm\"\n",
    "string2 = \"sdf234r3\"\n",
    "print(string1.isalnum())\n",
    "print(string2.isalnum())"
   ],
   "metadata": {
    "collapsed": false,
    "pycharm": {
     "name": "#%%\n"
    }
   }
  },
  {
   "cell_type": "markdown",
   "source": [
    "\n",
    "## isalpha()\n",
    "####  문자열에 영어, 한글 되어있으면 true 리턴\n",
    "#### \"문자열\".isalpha()"
   ],
   "metadata": {
    "collapsed": false
   }
  },
  {
   "cell_type": "code",
   "execution_count": null,
   "outputs": [],
   "source": [
    "text = \"!#$$!@$!!!!!!!!@$#231421234코123^&^#$#딩!#123c13_o+{de\"\n",
    "check = \"\"\n",
    "for i in text:\n",
    "    if i.isalpha():\n",
    "        check += i\n",
    "print(check)\n"
   ],
   "metadata": {
    "collapsed": false,
    "pycharm": {
     "name": "#%%\n"
    }
   }
  },
  {
   "cell_type": "markdown",
   "source": [
    "## if 문 사용법"
   ],
   "metadata": {
    "collapsed": false
   }
  },
  {
   "cell_type": "code",
   "execution_count": null,
   "outputs": [],
   "source": [
    "string = \"asfeabc3dad\"\n",
    "\n",
    "for i in string:\n",
    "    if i in 'a342':\n",
    "        print(i)"
   ],
   "metadata": {
    "collapsed": false,
    "pycharm": {
     "name": "#%%\n"
    }
   }
  }
 ],
 "metadata": {
  "kernelspec": {
   "display_name": "Python 3 (ipykernel)",
   "language": "python",
   "name": "python3"
  },
  "language_info": {
   "codemirror_mode": {
    "name": "ipython",
    "version": 3
   },
   "file_extension": ".py",
   "mimetype": "text/x-python",
   "name": "python",
   "nbconvert_exporter": "python",
   "pygments_lexer": "ipython3",
   "version": "3.10.0"
  }
 },
 "nbformat": 4,
 "nbformat_minor": 1
}