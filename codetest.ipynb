{
 "cells": [
  {
   "cell_type": "markdown",
   "metadata": {
    "collapsed": true,
    "pycharm": {
     "name": "#%% md\n"
    }
   },
   "source": [
    "## 중복 제거\n",
    "#### set() 을 사용하면 됨"
   ]
  },
  {
   "cell_type": "code",
   "execution_count": 5,
   "outputs": [
    {
     "name": "stdout",
     "output_type": "stream",
     "text": [
      "['muzi frodo', 'muzi frodo', 'muzi neo', 'muzi neo', 'apeach frodo', 'apeach muzi', 'frodo neo']\n",
      "<class 'list'>\n",
      "{'apeach muzi', 'frodo neo', 'muzi neo', 'apeach frodo', 'muzi frodo'}\n",
      "<class 'set'>\n"
     ]
    }
   ],
   "source": [
    "report = [\"muzi frodo\", \"muzi frodo\", \"muzi neo\", \"muzi neo\", \"apeach frodo\", \"apeach muzi\", \"frodo neo\"]\n",
    "\n",
    "print(report)\n",
    "print(type(report))\n",
    "report = set(report)\n",
    "print(report)\n",
    "print(type(report))\n"
   ],
   "metadata": {
    "collapsed": false,
    "pycharm": {
     "name": "#%%\n"
    }
   }
  },
  {
   "cell_type": "markdown",
   "source": [
    "## list to dict\n",
    "### 리스트를 딕셔너리로\n",
    "####  dict.fromkeys(\"사용할 리스트\",\"초기화할 value\")"
   ],
   "metadata": {
    "collapsed": false
   }
  },
  {
   "cell_type": "code",
   "execution_count": 10,
   "outputs": [
    {
     "name": "stdout",
     "output_type": "stream",
     "text": [
      "{'muzi': 0, 'frodo': 0, 'apeach': 0, 'neo': 0}\n"
     ]
    }
   ],
   "source": [
    "id_list = [\"muzi\", \"frodo\", \"apeach\", \"neo\"]\n",
    "reported_dict = dict.fromkeys(id_list, 0)\n",
    "print(reported_dict)"
   ],
   "metadata": {
    "collapsed": false,
    "pycharm": {
     "name": "#%%\n"
    }
   }
  },
  {
   "cell_type": "markdown",
   "source": [
    "\n",
    "## index\n",
    "####  해당 리스트에서 위치 찾음\n",
    "#### \"리스트\".index(\"찾을 값\")"
   ],
   "metadata": {
    "collapsed": false
   }
  },
  {
   "cell_type": "code",
   "execution_count": 13,
   "outputs": [
    {
     "name": "stdout",
     "output_type": "stream",
     "text": [
      "1\n"
     ]
    }
   ],
   "source": [
    "id_list = [\"muzi\", \"frodo\", \"apeach\", \"neo\"]\n",
    "index = id_list.index(\"frodo\")\n",
    "print(index)"
   ],
   "metadata": {
    "collapsed": false,
    "pycharm": {
     "name": "#%%\n"
    }
   }
  },
  {
   "cell_type": "markdown",
   "source": [
    "\n",
    "## count\n",
    "####  리스트에서 해당 값의 갯수 찾아줌 (숫자, string) 가능\n",
    "#### \"리스트\".count(\"갯수를 찾을 값\")"
   ],
   "metadata": {
    "collapsed": false
   }
  },
  {
   "cell_type": "code",
   "execution_count": 1,
   "outputs": [
    {
     "name": "stdout",
     "output_type": "stream",
     "text": [
      "2\n"
     ]
    }
   ],
   "source": [
    "id_list = [\"muzi\", \"muzi\", \"apeach\", \"neo\"]\n",
    "count = id_list.count(\"muzi\")\n",
    "print(count)"
   ],
   "metadata": {
    "collapsed": false,
    "pycharm": {
     "name": "#%%\n"
    }
   }
  }
 ],
 "metadata": {
  "kernelspec": {
   "display_name": "Python 3 (ipykernel)",
   "language": "python",
   "name": "python3"
  },
  "language_info": {
   "codemirror_mode": {
    "name": "ipython",
    "version": 3
   },
   "file_extension": ".py",
   "mimetype": "text/x-python",
   "name": "python",
   "nbconvert_exporter": "python",
   "pygments_lexer": "ipython3",
   "version": "3.10.0"
  }
 },
 "nbformat": 4,
 "nbformat_minor": 1
}